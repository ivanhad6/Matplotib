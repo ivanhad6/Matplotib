{
 "cells": [
  {
   "cell_type": "code",
   "execution_count": 1,
   "id": "eb023a17",
   "metadata": {},
   "outputs": [
    {
     "name": "stdout",
     "output_type": "stream",
     "text": [
      "Using matplotlib backend: Qt5Agg\n"
     ]
    }
   ],
   "source": [
    "%matplotlib"
   ]
  },
  {
   "cell_type": "code",
   "execution_count": 2,
   "id": "2822ac75",
   "metadata": {},
   "outputs": [],
   "source": [
    "import matplotlib.pyplot as plt\n",
    "import numpy as np"
   ]
  },
  {
   "cell_type": "code",
   "execution_count": 3,
   "id": "7410b191",
   "metadata": {},
   "outputs": [],
   "source": [
    "fig = plt.figure() #sebuah figure tanpa axes"
   ]
  },
  {
   "cell_type": "code",
   "execution_count": 4,
   "id": "34b6d777",
   "metadata": {},
   "outputs": [],
   "source": [
    "fig, ax = plt.subplots() # sebuah figure dengan sebuah axes\n"
   ]
  },
  {
   "cell_type": "code",
   "execution_count": null,
   "id": "a6839516",
   "metadata": {},
   "outputs": [],
   "source": [
    "fig, axs = plt.subplots(2, 3) # sebuah figure dengan 2x3 grid axes"
   ]
  }
 ],
 "metadata": {
  "kernelspec": {
   "display_name": "Python 3 (ipykernel)",
   "language": "python",
   "name": "python3"
  },
  "language_info": {
   "codemirror_mode": {
    "name": "ipython",
    "version": 3
   },
   "file_extension": ".py",
   "mimetype": "text/x-python",
   "name": "python",
   "nbconvert_exporter": "python",
   "pygments_lexer": "ipython3",
   "version": "3.9.7"
  }
 },
 "nbformat": 4,
 "nbformat_minor": 5
}
